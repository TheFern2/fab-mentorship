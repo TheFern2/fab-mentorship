{
 "cells": [
  {
   "cell_type": "markdown",
   "metadata": {},
   "source": [
    "# Introduction to JavaScript\n",
    "\n",
    "First things first, JavaScript is not a child or has any direct relationship to Java many of the same principle carry over but the syntax of the two is very different. Every language has rules, some more than others. These rules are known as **Lexical Structure**. I will attempt to keep this short, since these things will come to you quickly as you learn the language but I'd like to talk about them in case this is your first programming language.\n",
    "\n",
    "## Case Sensitivity\n",
    "\n",
    "Case sensitivity is sort of a unspoken rule, and personal preference in some languages. Other languages encourage one over the other such as python (under_scores). The project guidelines can also dictate it.\n",
    "\n",
    "camelCase:\n",
    "```\n",
    "var oxygenLevel = 5\n",
    "var waterReclaimerStatus = \"Healthy\"\n",
    "```\n",
    "\n",
    "PascalCase:\n",
    "```\n",
    "var OxygenLevel = 5\n",
    "var WaterReclaimerStatus = \"Healthy\"\n",
    "```\n",
    "\n",
    "under_scores:\n",
    "```\n",
    "var oxygen_level = 5\n",
    "var water_reclaimer_status = \"Healthy\"\n",
    "```\n",
    "\n",
    "## Whitespace\n",
    "\n",
    "Whitespace is ignored by the compiler, it will not matter how much whitespace you leave in between statements. The whitespace is mainly used for human readibility, the computer doesn't care one way or another.\n",
    "\n",
    "See below code:"
   ]
  },
  {
   "cell_type": "code",
   "execution_count": 1,
   "metadata": {},
   "outputs": [
    {
     "name": "stdout",
     "output_type": "stream",
     "text": [
      "0\n",
      "1\n",
      "2\n",
      "3\n",
      "4\n",
      "5\n",
      "6\n",
      "7\n",
      "8\n"
     ]
    }
   ],
   "source": [
    "for(var i = 0; i < 9; i++){\n",
    "    console.log(i)\n",
    "}"
   ]
  },
  {
   "cell_type": "code",
   "execution_count": 2,
   "metadata": {},
   "outputs": [
    {
     "name": "stdout",
     "output_type": "stream",
     "text": [
      "0\n",
      "1\n",
      "2\n",
      "3\n",
      "4\n",
      "5\n",
      "6\n",
      "7\n",
      "8\n"
     ]
    }
   ],
   "source": [
    "for(var i=0;i<9;i++){console.log(i)}"
   ]
  },
  {
   "cell_type": "markdown",
   "metadata": {},
   "source": [
    "Which one is more readable? Having good indentation, and spacing will save you headaches down the line.\n",
    "\n",
    "## Comments\n",
    "\n",
    "Comments are also ignored by the compiler. Good comments help you understand the code when you look at later on. Comments should indicate the why. The how should be deduced from reading the code. At times, complex code has to be heavily commented too. You just don't want to comment everything, just for the sake of writing comments.\n",
    "\n",
    "```\n",
    "// This is a single line comment\n",
    "\n",
    "/*\n",
    "* This is a\n",
    "* multiline\n",
    "* comment.\n",
    "*/\n",
    "```\n",
    "\n",
    "## Identifiers\n",
    "\n",
    "Identifiers are the name you give to a variable name, examples below:\n",
    "\n",
    "```\n",
    "i\n",
    "my_variable\n",
    "myVariable\n",
    "_aVariable\n",
    "```\n",
    "\n",
    "\n",
    "## Reserved Words\n",
    "\n",
    "There are a number of identifiers that are used within the language and can't be used for variable names.\n",
    "\n",
    "```\n",
    "break delete funtion return typeof\n",
    "case  do     if      switch var\n",
    "and many more...\n",
    "```"
   ]
  },
  {
   "cell_type": "code",
   "execution_count": null,
   "metadata": {},
   "outputs": [],
   "source": []
  }
 ],
 "metadata": {
  "kernelspec": {
   "display_name": "Javascript (Node.js)",
   "language": "javascript",
   "name": "javascript"
  },
  "language_info": {
   "file_extension": ".js",
   "mimetype": "application/javascript",
   "name": "javascript",
   "version": "10.16.2"
  }
 },
 "nbformat": 4,
 "nbformat_minor": 2
}
